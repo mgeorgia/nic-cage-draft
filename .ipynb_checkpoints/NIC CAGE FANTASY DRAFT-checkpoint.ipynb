{
 "cells": [
  {
   "cell_type": "raw",
   "id": "90ff52ba",
   "metadata": {},
   "source": [
    "░░░░░░░░░░░░░░▄▄▄▄▄▄▄▄▄▄▄▄░░░░░░░░░░░░░░\n",
    "░░░░░░░░░░░░▄████████████████▄░░░░░░░░░░\n",
    "░░░░░░░░░░▄██▀░░░░░░░▀▀████████▄░░░░░░░░\n",
    "░░░░░░░░░▄█▀░░░░░░░░░░░░░▀▀██████▄░░░░░░\n",
    "░░░░░░░░░███▄░░░░░░░░░░░░░░░▀██████░░░░░\n",
    "░░░░░░░░▄░░▀▀█░░░░░░░░░░░░░░░░██████░░░░\n",
    "░░░░░░░█▄██▀▄░░░░░▄███▄▄░░░░░░███████░░░\n",
    "░░░░░░▄▀▀▀██▀░░░░░▄▄▄░░▀█░░░░█████████░░\n",
    "░░░░░▄▀░░░░▄▀░▄░░█▄██▀▄░░░░░██████████░░\n",
    "░░░░░█░░░░▀░░░█░░░▀▀▀▀▀░░░░░██████████▄░\n",
    "░░░░░░░▄█▄░░░░░▄░░░░░░░░░░░░██████████▀░\n",
    "░░░░░░█▀░░░░▀▀░░░░░░░░░░░░░███▀███████░░\n",
    "░░░▄▄░▀░▄░░░░░░░░░░░░░░░░░░▀░░░██████░░░\n",
    "██████░░█▄█▀░▄░░██░░░░░░░░░░░█▄█████▀░░░\n",
    "██████░░░▀████▀░▀░░░░░░░░░░░▄▀█████████▄\n",
    "██████░░░░░░░░░░░░░░░░░░░░▀▄████████████\n",
    "██████░░▄░░░░░░░░░░░░░▄░░░██████████████\n",
    "██████░░░░░░░░░░░░░▄█▀░░▄███████████████\n",
    "███████▄▄░░░░░░░░░▀░░░▄▀▄███████████████\n",
    "\n",
    "NIC CAGE FANTASY DRAFT"
   ]
  },
  {
   "cell_type": "markdown",
   "id": "b70cb32e",
   "metadata": {},
   "source": [
    "## Draft factors\n",
    "The fantasy draft will factor 3 inputs in listed in decreasing influence:\n",
    "1) Cage Factor (Ranges from 0-10)  \n",
    "2) Audience Score from Rotten Tomatoes (Ranges from 0-100, scaled to be 0-10)  \n",
    "3) Critic Score from Rotten Tomatoes (Ranges from 0-100, scaled to be 0-10)  \n",
    "\n",
    "Therefore, the max *unweighted* influencer score one could achieve would be 30, and the minimum would be 0.  A 30 is not possible, as maximum Cage factor tends to upset the critics.  As noted above, the scores will be weighted to heavily bias Cage Factor, then Audience score, and finally critic score.\n",
    "\n",
    "Cage factor will influence draft order heavily.  While no one man can truly set the Cage Factor of even a single scene of a single movie, I will make an approximation.  Select your movie accordingly.  Bribes encouraged.\n",
    "\n",
    "Seed for the random number generator will be the number of characters in Nic Cage's birth name, Nicolas Kim Coppola."
   ]
  },
  {
   "cell_type": "code",
   "execution_count": 14,
   "id": "736eca6f",
   "metadata": {},
   "outputs": [],
   "source": [
    "import numpy as np\n",
    "import pandas as pd\n",
    "# Seed the random number generator for repeatability\n",
    "blesscage = 'Nicolas Kim Coppola'\n",
    "np.random.seed(len(blesscage))"
   ]
  },
  {
   "cell_type": "code",
   "execution_count": 12,
   "id": "9924eae1",
   "metadata": {},
   "outputs": [],
   "source": [
    "# Pull in Everyone's movie choices\n",
    "# TBD - waiting for the movies to be chosen"
   ]
  },
  {
   "cell_type": "code",
   "execution_count": 13,
   "id": "41bff5c9",
   "metadata": {},
   "outputs": [],
   "source": [
    "# Pull in Cage Factors\n",
    "# TBD - waiting for bribes to roll in..."
   ]
  },
  {
   "cell_type": "code",
   "execution_count": 41,
   "id": "e49adbb1",
   "metadata": {},
   "outputs": [
    {
     "data": {
      "text/html": [
       "<div>\n",
       "<style scoped>\n",
       "    .dataframe tbody tr th:only-of-type {\n",
       "        vertical-align: middle;\n",
       "    }\n",
       "\n",
       "    .dataframe tbody tr th {\n",
       "        vertical-align: top;\n",
       "    }\n",
       "\n",
       "    .dataframe thead th {\n",
       "        text-align: right;\n",
       "    }\n",
       "</style>\n",
       "<table border=\"1\" class=\"dataframe\">\n",
       "  <thead>\n",
       "    <tr style=\"text-align: right;\">\n",
       "      <th></th>\n",
       "      <th>Title</th>\n",
       "      <th>Critics</th>\n",
       "      <th>Audience</th>\n",
       "    </tr>\n",
       "  </thead>\n",
       "  <tbody>\n",
       "    <tr>\n",
       "      <th>0</th>\n",
       "      <td>The Unbearable Weight of Massive Talent</td>\n",
       "      <td>0.0</td>\n",
       "      <td>0.0</td>\n",
       "    </tr>\n",
       "    <tr>\n",
       "      <th>1</th>\n",
       "      <td>Willy's Wonderland</td>\n",
       "      <td>6.1</td>\n",
       "      <td>7.0</td>\n",
       "    </tr>\n",
       "    <tr>\n",
       "      <th>2</th>\n",
       "      <td>Prisoners of the Ghostland</td>\n",
       "      <td>7.6</td>\n",
       "      <td>0.0</td>\n",
       "    </tr>\n",
       "    <tr>\n",
       "      <th>3</th>\n",
       "      <td>Jiu Jitsu</td>\n",
       "      <td>2.8</td>\n",
       "      <td>6.5</td>\n",
       "    </tr>\n",
       "    <tr>\n",
       "      <th>4</th>\n",
       "      <td>The Croods: A New Age</td>\n",
       "      <td>7.7</td>\n",
       "      <td>9.4</td>\n",
       "    </tr>\n",
       "  </tbody>\n",
       "</table>\n",
       "</div>"
      ],
      "text/plain": [
       "                                     Title  Critics  Audience\n",
       "0  The Unbearable Weight of Massive Talent      0.0       0.0\n",
       "1                       Willy's Wonderland      6.1       7.0\n",
       "2               Prisoners of the Ghostland      7.6       0.0\n",
       "3                                Jiu Jitsu      2.8       6.5\n",
       "4                    The Croods: A New Age      7.7       9.4"
      ]
     },
     "execution_count": 41,
     "metadata": {},
     "output_type": "execute_result"
    }
   ],
   "source": [
    "# Pull in Movie List\n",
    "cage_movies = pd.read_csv('Cage Scores.csv')\n",
    "cage_movies = cage_movies[['Title','Critics','Audience']]\n",
    "# Scale Critic and Audience scores to range from 0-10\n",
    "cage_movies['Critics']=cage_movies['Critics']/10\n",
    "cage_movies['Audience']=cage_movies['Audience']/10\n",
    "cage_movies.head()"
   ]
  },
  {
   "cell_type": "code",
   "execution_count": 42,
   "id": "0c1dfdba",
   "metadata": {},
   "outputs": [
    {
     "data": {
      "text/html": [
       "<div>\n",
       "<style scoped>\n",
       "    .dataframe tbody tr th:only-of-type {\n",
       "        vertical-align: middle;\n",
       "    }\n",
       "\n",
       "    .dataframe tbody tr th {\n",
       "        vertical-align: top;\n",
       "    }\n",
       "\n",
       "    .dataframe thead th {\n",
       "        text-align: right;\n",
       "    }\n",
       "</style>\n",
       "<table border=\"1\" class=\"dataframe\">\n",
       "  <thead>\n",
       "    <tr style=\"text-align: right;\">\n",
       "      <th></th>\n",
       "      <th>Title</th>\n",
       "      <th>Critics</th>\n",
       "      <th>Audience</th>\n",
       "    </tr>\n",
       "  </thead>\n",
       "  <tbody>\n",
       "    <tr>\n",
       "      <th>103</th>\n",
       "      <td>Birdy</td>\n",
       "      <td>8.300000</td>\n",
       "      <td>8.3</td>\n",
       "    </tr>\n",
       "    <tr>\n",
       "      <th>104</th>\n",
       "      <td>Rumble Fish</td>\n",
       "      <td>7.400000</td>\n",
       "      <td>8.0</td>\n",
       "    </tr>\n",
       "    <tr>\n",
       "      <th>105</th>\n",
       "      <td>Valley Girl</td>\n",
       "      <td>8.300000</td>\n",
       "      <td>7.2</td>\n",
       "    </tr>\n",
       "    <tr>\n",
       "      <th>106</th>\n",
       "      <td>Fast Times at Ridgemont High</td>\n",
       "      <td>7.700000</td>\n",
       "      <td>8.0</td>\n",
       "    </tr>\n",
       "    <tr>\n",
       "      <th>107</th>\n",
       "      <td>SNL Weekend Update</td>\n",
       "      <td>4.280374</td>\n",
       "      <td>4.4</td>\n",
       "    </tr>\n",
       "  </tbody>\n",
       "</table>\n",
       "</div>"
      ],
      "text/plain": [
       "                            Title   Critics  Audience\n",
       "103                         Birdy  8.300000       8.3\n",
       "104                   Rumble Fish  7.400000       8.0\n",
       "105                   Valley Girl  8.300000       7.2\n",
       "106  Fast Times at Ridgemont High  7.700000       8.0\n",
       "107            SNL Weekend Update  4.280374       4.4"
      ]
     },
     "execution_count": 42,
     "metadata": {},
     "output_type": "execute_result"
    }
   ],
   "source": [
    "# To accomodate Zach's weekend update choice, need to insert SNL as a separate row\n",
    "# As agreed on over text, will use the average critic score for SNL since there is no critic score.\n",
    "# audience score (from RT) is 44%\n",
    "# Create Row to append to cage_movies\n",
    "snl=pd.DataFrame()\n",
    "snl['Title']=['SNL Weekend Update']\n",
    "snl['Critics']=[cage_movies['Critics'].mean()]\n",
    "snl['Audience']=4.4\n",
    "\n",
    "# Append to list of cage movies\n",
    "cage_movies = pd.concat([cage_movies,snl]).reset_index(drop=True)\n",
    "cage_movies.tail()"
   ]
  },
  {
   "cell_type": "code",
   "execution_count": null,
   "id": "0cd78971",
   "metadata": {},
   "outputs": [],
   "source": [
    "# Combine together, calculate the unweighted and weighted Cage Scores\n",
    "# Weights were chosen so that both the weighted and unweighted scores range between 0 and 30\n",
    "weights = {'Cage Factor':2, 'Audience':0.75, 'Critics':0.25}\n",
    "\n",
    "#cage_movies"
   ]
  }
 ],
 "metadata": {
  "kernelspec": {
   "display_name": "Python 3",
   "language": "python",
   "name": "python3"
  },
  "language_info": {
   "codemirror_mode": {
    "name": "ipython",
    "version": 3
   },
   "file_extension": ".py",
   "mimetype": "text/x-python",
   "name": "python",
   "nbconvert_exporter": "python",
   "pygments_lexer": "ipython3",
   "version": "3.9.5"
  }
 },
 "nbformat": 4,
 "nbformat_minor": 5
}
