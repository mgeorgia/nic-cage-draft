{
 "cells": [
  {
   "cell_type": "markdown",
   "id": "3b2855ae",
   "metadata": {},
   "source": [
    "# All Praise to Yahweh: Cage\n",
    "\n",
    "Since I am writing this code I don't want to be thought of as cheating.  I will have the one true god, Nic Cage, select my movie for me.  Since HE has created all our splendor, numpy's random generator acts as his 6th appendage, guiding us all."
   ]
  },
  {
   "cell_type": "code",
   "execution_count": 1,
   "id": "ac33cf71",
   "metadata": {},
   "outputs": [],
   "source": [
    "import numpy as np\n",
    "import pandas as pd\n",
    "YAHWEH = 'Nicolas Cage'\n",
    "# Seed the generator for repeatability\n",
    "np.random.seed(len(YAHWEH))"
   ]
  },
  {
   "cell_type": "code",
   "execution_count": 2,
   "id": "7484ddeb",
   "metadata": {},
   "outputs": [],
   "source": [
    "# pull in the list of movies\n",
    "df=pd.read_csv('Cage Scores.csv')"
   ]
  },
  {
   "cell_type": "code",
   "execution_count": 3,
   "id": "75a5d16c",
   "metadata": {},
   "outputs": [],
   "source": [
    "max_n = len(df)"
   ]
  },
  {
   "cell_type": "code",
   "execution_count": 4,
   "id": "6741ac5f",
   "metadata": {},
   "outputs": [
    {
     "name": "stdout",
     "output_type": "stream",
     "text": [
      "75\n"
     ]
    }
   ],
   "source": [
    "# generate my choice\n",
    "movie_index = np.random.randint(0,max_n)\n",
    "print(movie_index)"
   ]
  },
  {
   "cell_type": "code",
   "execution_count": 5,
   "id": "b3fdef5c",
   "metadata": {},
   "outputs": [
    {
     "data": {
      "text/plain": [
       "Critics                           23\n",
       "Audience                          52\n",
       "Title                            8MM\n",
       "Credit        Tom Welles (Character)\n",
       "Box Office                    $36.3M\n",
       "Year                            1999\n",
       "Name: 75, dtype: object"
      ]
     },
     "execution_count": 5,
     "metadata": {},
     "output_type": "execute_result"
    }
   ],
   "source": [
    "df.iloc[75]"
   ]
  },
  {
   "cell_type": "code",
   "execution_count": null,
   "id": "bece7253",
   "metadata": {},
   "outputs": [],
   "source": []
  }
 ],
 "metadata": {
  "kernelspec": {
   "display_name": "Python 3",
   "language": "python",
   "name": "python3"
  },
  "language_info": {
   "codemirror_mode": {
    "name": "ipython",
    "version": 3
   },
   "file_extension": ".py",
   "mimetype": "text/x-python",
   "name": "python",
   "nbconvert_exporter": "python",
   "pygments_lexer": "ipython3",
   "version": "3.9.5"
  }
 },
 "nbformat": 4,
 "nbformat_minor": 5
}
